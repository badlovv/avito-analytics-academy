{
 "cells": [
  {
   "cell_type": "markdown",
   "metadata": {},
   "source": [
    "Владимир Бадло. Задание 1."
   ]
  },
  {
   "cell_type": "markdown",
   "metadata": {},
   "source": [
    "\n",
    "Пусть дана выборка из непрерывной случайной величины $\\xi$. Разработать односторонний аналог критерия Манна-Уитни для проверки гипотезы.   \n",
    "\n",
    "$H_0$: медиана случайной величины $\\xi = m_0$   \n",
    "\n",
    "$H_1$: медиана случайной величины $\\xi > m_0$\n",
    "\n"
   ]
  },
  {
   "cell_type": "markdown",
   "metadata": {},
   "source": [
    "Пусть статистика построена следующим образом: $Med_n$ = $\\sum_{i=1}^n I[\\xi_i > m_0]$ - количество наблюдений, которые оказались больше $m_0$\n",
    "\n",
    "\n",
    "В случае выполнения нулевой гипотезы $Med_n$ статистика имеет биномиальное распределение с $p = \\frac{1}{2}$: $Med_n \\sim \\text{Binom}(\\frac{1}   {2}, n)$     \n",
    "\n",
    "\n",
    "Если $H_0$ не верна, статистика $Med$ принимает значения $> \\frac{1}{2}$.  \n",
    "\n",
    "Тогда $p_{value} = P(\\text{Binom}_{\\frac{1}{2}, n} ≥ Med_n)$"
   ]
  },
  {
   "cell_type": "code",
   "execution_count": 2,
   "metadata": {},
   "outputs": [],
   "source": [
    "from scipy import stats\n",
    "from scipy.stats import binom\n",
    "import numpy\n",
    "import matplotlib.pyplot as pyplot"
   ]
  },
  {
   "cell_type": "code",
   "execution_count": 16,
   "metadata": {},
   "outputs": [],
   "source": [
    "def med_stat(m_0, arr):\n",
    "    med = sum(x > m_0 for x in arr)\n",
    "    p_value = 1 - binom.cdf(med, p = 0.5, n=len(arr))\n",
    "    return med, p_value"
   ]
  },
  {
   "cell_type": "code",
   "execution_count": 59,
   "metadata": {},
   "outputs": [
    {
     "data": {
      "text/plain": [
       "(504, 0.3879817574783412)"
      ]
     },
     "execution_count": 59,
     "metadata": {},
     "output_type": "execute_result"
    }
   ],
   "source": [
    "N = 1000\n",
    "size = 1000\n",
    "m_0 = 500\n",
    "\n",
    "binom_h0 = binom.freeze(p = 0.5, n = N )\n",
    "sample_h0 = binom_h0.rvs(size)\n",
    "\n",
    "med_h0, p_val_h0 = med_stat(m_0, sample_h0)\n",
    "med_h0, p_val_h0"
   ]
  },
  {
   "cell_type": "code",
   "execution_count": 60,
   "metadata": {},
   "outputs": [
    {
     "data": {
      "text/plain": [
       "(725, 1.1102230246251565e-16)"
      ]
     },
     "execution_count": 60,
     "metadata": {},
     "output_type": "execute_result"
    }
   ],
   "source": [
    "size = 1000\n",
    "m_0 = 500\n",
    "N = 1000\n",
    "binom_h1 = binom.freeze(p = 0.51, n = N)\n",
    "sample_h1 = binom_h1.rvs(size)\n",
    "\n",
    "med_h1, p_val_h1 = med_stat(m_0, sample_h1)\n",
    "med_h1, p_val_h1"
   ]
  },
  {
   "cell_type": "code",
   "execution_count": null,
   "metadata": {},
   "outputs": [],
   "source": []
  }
 ],
 "metadata": {
  "kernelspec": {
   "display_name": "Python 3",
   "language": "python",
   "name": "python3"
  },
  "language_info": {
   "codemirror_mode": {
    "name": "ipython",
    "version": 3
   },
   "file_extension": ".py",
   "mimetype": "text/x-python",
   "name": "python",
   "nbconvert_exporter": "python",
   "pygments_lexer": "ipython3",
   "version": "3.8.3"
  }
 },
 "nbformat": 4,
 "nbformat_minor": 4
}
