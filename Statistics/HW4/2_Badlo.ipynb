{
 "cells": [
  {
   "cell_type": "markdown",
   "metadata": {},
   "source": [
    "Владимир Бадло. Задание 2."
   ]
  },
  {
   "cell_type": "code",
   "execution_count": 1,
   "metadata": {},
   "outputs": [],
   "source": [
    "from scipy import stats\n",
    "import numpy\n",
    "import matplotlib.pyplot as pyplot\n",
    "from statsmodels.stats.weightstats import ttest_ind"
   ]
  },
  {
   "cell_type": "markdown",
   "metadata": {},
   "source": [
    "Разработчики Петр и Вася занимаются разработкой функционала для звонков через приложение Авито. Петр занимается Android версией приложения, а Вася занимается iOS. Совсем недавно был обнаружен странный баг, который мешал пользователям звонить через приложение - они постоянно теряли связь при разговоре и нужно было звонить заново. Петя и Вася \"починили\" баг и обновили клиенты приложений, чтобы пользователи могли общаться спокойно.\n",
    "\n",
    "Известно, что доля звонков через Android составляет ровно 70% всех звонков. В то время как через iOS звонят оставшиеся 30%.\n",
    "Также было известно что в версии А средняя продолжительность звонка составляла 50 секунд со средним отклонением 10 секунд.\n",
    "\n",
    "Основная метрика, на которую смотрит команда при разработке продукта - средняя продолжительность звонка.\n",
    "\n",
    "После обновления ожидалось, что средняя продолжительность звонков вырастет до 100 секунд с тем же средним отклонением.\n",
    "\n",
    "Однако, после запуска версии В средняя продолжительность звонка увеличилась лишь до 58 секунд. Этот результат устроил команду, однако аналитик задумался почему так произошло и решил \"изучить\" данные подробнее.\n",
    "\n",
    "Для этого он решил провести два теста, T-test и тест Манна-Уитни чтобы сравнить версии приложения.\n",
    "\n",
    "\n",
    "Пусть генеральная совокупность А - продолжительность звонков пользователей в приложении версии А ($\\xi_A$) . Генеральная совокупность В - продолжительность звонков в приложении версии В ($\\xi_B$)."
   ]
  },
  {
   "cell_type": "code",
   "execution_count": 56,
   "metadata": {},
   "outputs": [],
   "source": [
    "# import scipy.stats as stats\n",
    "import numpy\n",
    "\n",
    "class version_A(stats.rv_continuous): # rv_discrete\n",
    "    \"Exponential distribution also having a small chance of a large object drawn from a uniform distribution\"\n",
    "    \n",
    "    def _pdf(self, x, android_share):\n",
    "        # NB: arguments can by numpy arrays  \n",
    "        \n",
    "        return (\n",
    "            (1 - android_share)\n",
    "            *\n",
    "            stats.norm(loc=50, scale=10).pdf(x)\n",
    "            \n",
    "            +\n",
    "            \n",
    "            android_share\n",
    "            *\n",
    "            stats.norm(loc=50, scale=10).pdf(x)            \n",
    "        )\n",
    "        \n",
    "    \n",
    "    # rvs can be calculated using defined pdf, but it will work faster if defined explicitly\n",
    "    def _rvs(self, android_share, size, random_state):\n",
    "        uniform = stats.uniform(loc=0, scale=1).rvs(size)\n",
    "\n",
    "        return numpy.where(\n",
    "            uniform <= android_share, \n",
    "            stats.norm(loc=50, scale=10).rvs(size), \n",
    "            stats.norm(loc=50, scale=10).rvs(size)\n",
    "        ) \n",
    "    \n",
    "        \n",
    "calls_dist_A = version_A(name=\"calls_distribution\")\n",
    "\n",
    "class version_B(stats.rv_continuous): # rv_discrete\n",
    "    \"Exponential distribution also having a small chance of a large object drawn from a uniform distribution\"\n",
    "    \n",
    "    def _pdf(self, x, android_share):\n",
    "        # NB: arguments can by numpy arrays  \n",
    "        \n",
    "        return (\n",
    "            (1 - android_share)\n",
    "            *\n",
    "            stats.norm(loc=100, scale=10).pdf(x)\n",
    "            \n",
    "            +\n",
    "            \n",
    "            android_share\n",
    "            *\n",
    "            stats.norm(loc=40, scale=10).pdf(x)            \n",
    "        )\n",
    "        \n",
    "    \n",
    "    # rvs can be calculated using defined pdf, but it will work faster if defined explicitly\n",
    "    def _rvs(self, android_share, size, random_state):\n",
    "        uniform = stats.uniform(loc=0, scale=1).rvs(size)\n",
    "\n",
    "        return numpy.where(\n",
    "            uniform <= android_share, \n",
    "            stats.norm(loc=40, scale=10).rvs(size), \n",
    "            stats.norm(loc=100, scale=10).rvs(size)\n",
    "        ) \n",
    "    \n",
    "        \n",
    "calls_dist_B = version_B(name=\"calls_distribution\")\n"
   ]
  },
  {
   "cell_type": "code",
   "execution_count": 44,
   "metadata": {},
   "outputs": [],
   "source": [
    "calls_A = calls_dist_A(android_share=0.7)\n",
    "calls_B = calls_dist_B(android_share=0.7)"
   ]
  },
  {
   "cell_type": "code",
   "execution_count": 45,
   "metadata": {},
   "outputs": [],
   "source": [
    "sampleA = list(calls_A.rvs(size=300))\n",
    "sampleB = list(calls_B.rvs(size=300))"
   ]
  },
  {
   "cell_type": "markdown",
   "metadata": {},
   "source": [
    "С прошлой версии приложения аналитик помнил, что средняя продолжительность звонка имеет нормальное распределение. Поэтому первое, что пришло в голову - проверить разницу матожиданий через T-test."
   ]
  },
  {
   "cell_type": "code",
   "execution_count": 51,
   "metadata": {},
   "outputs": [
    {
     "data": {
      "text/plain": [
       "(4.042131021518202, 2.9944505477505386e-05, 598.0)"
      ]
     },
     "execution_count": 51,
     "metadata": {},
     "output_type": "execute_result"
    }
   ],
   "source": [
    "ttest_ind(sampleB, sampleA, alternative='larger')"
   ]
  },
  {
   "cell_type": "markdown",
   "metadata": {},
   "source": [
    "Результат оказался стат значимым. Среднее выборки В оказалось выше среднего выборки А.    \n",
    "\n",
    "Тем не менее аналитик решил \"подстраховаться\" и перепроверить результат на непараметрическом тесте Манна-Уитни. "
   ]
  },
  {
   "cell_type": "markdown",
   "metadata": {},
   "source": [
    "Аналитик вспомнил, что тест Манна-Уитни проверяет немного другие гипотезы о распределнии:\n",
    "\n",
    "$H_0$: cлучайные величины $\\xi_A$ и $\\xi_B$ имеют одно распределение\n",
    "\n",
    "$H_1: \\mathbb{P}(\\xi_A < \\xi_B) > 0.5$"
   ]
  },
  {
   "cell_type": "code",
   "execution_count": 52,
   "metadata": {},
   "outputs": [
    {
     "data": {
      "text/plain": [
       "MannwhitneyuResult(statistic=39861.0, pvalue=0.9922561010550056)"
      ]
     },
     "execution_count": 52,
     "metadata": {},
     "output_type": "execute_result"
    }
   ],
   "source": [
    "stats.mannwhitneyu(sampleB, sampleA, alternative='greater')"
   ]
  },
  {
   "cell_type": "markdown",
   "metadata": {},
   "source": [
    "Результат удивил - тест Манна-Уитни не дает права отвергнуть нулевую гипотезу."
   ]
  },
  {
   "cell_type": "code",
   "execution_count": 54,
   "metadata": {},
   "outputs": [
    {
     "data": {
      "text/plain": [
       "MannwhitneyuResult(statistic=39861.0, pvalue=0.0077539377584963315)"
      ]
     },
     "execution_count": 54,
     "metadata": {},
     "output_type": "execute_result"
    }
   ],
   "source": [
    "stats.mannwhitneyu(sampleB, sampleA, alternative='less')"
   ]
  },
  {
   "cell_type": "markdown",
   "metadata": {},
   "source": [
    "Согласно тесту Манна-Уитни распределение выборки B \"лежит левее\" распределения выборки А. Тем не менее матожидание этих выборок расположены наоборот."
   ]
  },
  {
   "cell_type": "markdown",
   "metadata": {},
   "source": [
    "Тогда Аналитик решил посмотреть на данные в разрезе платформ и выяснил, что теперь пользователи Android в среднем имеют продолжительность разговора  не 50 секунд, а 40 секунд. В то время как для iOS приложения, средняя продолжительность разговора действительно увеличилась до 100 секунд как и ожидалось. \n",
    "Из-за того, что доля звоноков через Android составляет 70%, общая генеральная совокупность В действительно \"сдвинулась\" влево относительно генеральной совокупности А. Поэтому, несмотря на увеличение математического ожидания, тест Манна-Уитни показал такой неожиданный результат. Новое распределение генеральной совокупности В стало бимодальным и теперь его нельзя сравнивать с распределением А с помощью теста Стьюдента."
   ]
  },
  {
   "cell_type": "code",
   "execution_count": null,
   "metadata": {},
   "outputs": [],
   "source": []
  }
 ],
 "metadata": {
  "kernelspec": {
   "display_name": "Python 3",
   "language": "python",
   "name": "python3"
  },
  "language_info": {
   "codemirror_mode": {
    "name": "ipython",
    "version": 3
   },
   "file_extension": ".py",
   "mimetype": "text/x-python",
   "name": "python",
   "nbconvert_exporter": "python",
   "pygments_lexer": "ipython3",
   "version": "3.8.3"
  }
 },
 "nbformat": 4,
 "nbformat_minor": 4
}
